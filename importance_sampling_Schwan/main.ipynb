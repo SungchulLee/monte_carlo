{
 "cells": [
  {
   "cell_type": "markdown",
   "metadata": {},
   "source": [
    "[Brittany_Schwan](https://www.youtube.com/watch?v=Q9dAaw_bJ-o)"
   ]
  },
  {
   "cell_type": "code",
   "execution_count": 5,
   "metadata": {},
   "outputs": [],
   "source": [
    "%matplotlib inline"
   ]
  },
  {
   "cell_type": "markdown",
   "metadata": {},
   "source": [
    "### Computation of $\\int_0^1\\frac{log(1+x)}{x}dx$ using Monte Carlo\n",
    "$$\\begin{array}{lll}\n",
    "\\mathbb{E}_{X\\sim f_{old}}g(X)\n",
    "&=&\\int_{-\\infty}^\\infty g(x)f_{old}(x)dx\\\\\n",
    "&\\approx&\\frac{1}{n}\\sum_{i=1}^n g(x_i)\\quad\\mbox{for $x_i\\sim f_{old}$}\n",
    "\\end{array}$$\n",
    "where\n",
    "$$\n",
    "f_{old}(x)=1(0<x<1)\n",
    "$$"
   ]
  },
  {
   "cell_type": "code",
   "execution_count": 6,
   "metadata": {},
   "outputs": [
    {
     "data": {
      "image/png": "[encoded data removed]",
      "text/plain": [
       "<Figure size 432x288 with 1 Axes>"
      ]
     },
     "metadata": {
      "needs_background": "light"
     },
     "output_type": "display_data"
    },
    {
     "name": "stdout",
     "output_type": "stream",
     "text": [
      "mean of mc: 0.822468428125853\n",
      "std of mc: 0.0012199192184293402\n"
     ]
    }
   ],
   "source": [
    "import numpy as np\n",
    "import matplotlib.pyplot as plt\n",
    "\n",
    "\n",
    "def g(x):\n",
    "    return np.log(1+x)/x\n",
    "\n",
    "\n",
    "n = 5000 # number of samples to estimate integral\n",
    "n_MC = 10000 # number of MC estimate integral \n",
    "\n",
    "x = np.random.uniform(0., 1., (n_MC, n))\n",
    "MC = np.mean(g(x), axis=1) \n",
    "\n",
    "bins = np.linspace(0.818,0.827,100)\n",
    "plt.hist(MC, bins=bins)\n",
    "plt.show()\n",
    "\n",
    "print('mean of mc: {}'.format(np.mean(MC)))\n",
    "print('std of mc: {}'.format(np.std(MC)))"
   ]
  },
  {
   "cell_type": "markdown",
   "metadata": {},
   "source": [
    "### Computation of $\\int_0^1\\frac{log(1+x)}{x}dx$ using importance sampling\n",
    "$$\\begin{array}{lll}\n",
    "\\mathbb{E}_{X\\sim f_{old}}g(X)&=&\\int_{-\\infty}^\\infty g(x)f_{old}(x)dx\\\\\n",
    "&=&\\int_{-\\infty}^\\infty g(x)\\frac{f_{old}(x)}{f_{new}(x)}f_{new}(x)dx\\\\\n",
    "&=&\\mathbb{E}_{X\\sim f_{new}}g(X)\\frac{f_{old}(X)}{f_{new}(X)}\\\\\n",
    "&\\approx&\\frac{1}{n}\\sum_{i=1}^n g(x_i)\\frac{f_{old}(x_i)}{f_{new}(x_i)}\\quad\\mbox{for $x_i\\sim f_{new}$}\n",
    "\\end{array}$$\n",
    "where\n",
    "where\n",
    "$$\\begin{array}{lll}\n",
    "f_{old}(x)&=&1(0<x<1)\\\\\n",
    "f_{new}(x)&=&\\frac{e^{-x/3}}{3(1-e^{-1/3})}1(0<x<1)\\\\\n",
    "\\end{array}$$"
   ]
  },
  {
   "cell_type": "code",
   "execution_count": 7,
   "metadata": {},
   "outputs": [
    {
     "data": {
      "image/png": "[encoded data removed]",
      "text/plain": [
       "<Figure size 432x288 with 1 Axes>"
      ]
     },
     "metadata": {
      "needs_background": "light"
     },
     "output_type": "display_data"
    },
    {
     "name": "stdout",
     "output_type": "stream",
     "text": [
      "mean of mc: 0.8224679528736242\n",
      "std of mc: 0.00014105710856373254\n"
     ]
    }
   ],
   "source": [
    "import numpy as np\n",
    "import matplotlib.pyplot as plt\n",
    "\n",
    "\n",
    "def g(x):\n",
    "    return np.log(1+x)/x\n",
    "\n",
    "\n",
    "def f_old(x):\n",
    "    return 1\n",
    "\n",
    "\n",
    "def f_new(x):\n",
    "    return np.exp(-x/3) / (3*(1-np.exp(-1/3)))\n",
    "    \n",
    "\n",
    "n = 5000 # number of samples to estimate integral\n",
    "n_MC = 10000 # number of MC estimate integral \n",
    "\n",
    "u = np.random.uniform(0., 1., (n_MC, n))\n",
    "x = -3*np.log(1-u*(1-np.exp(-1/3))) # Smirov transform\n",
    "MC = np.mean(g(x)*f_old(x)/f_new(x), axis=1) \n",
    "\n",
    "bins = np.linspace(0.818,0.827,100)\n",
    "plt.hist(MC, bins=bins)\n",
    "plt.show()\n",
    "\n",
    "print('mean of mc: {}'.format(np.mean(MC)))\n",
    "print('std of mc: {}'.format(np.std(MC)))"
   ]
  },
  {
   "cell_type": "markdown",
   "metadata": {},
   "source": [
    "### How to choose $f_{new}$\n",
    "\n",
    "- $\\frac{g(x)}{f_{new}(x)}\\approx\\mbox{Constant}$ \n",
    "\n",
    "- Easy to sample"
   ]
  },
  {
   "cell_type": "code",
   "execution_count": 10,
   "metadata": {},
   "outputs": [
    {
     "data": {
      "image/png": "[encoded data removed]",
      "text/plain": [
       "<Figure size 432x288 with 1 Axes>"
      ]
     },
     "metadata": {
      "needs_background": "light"
     },
     "output_type": "display_data"
    }
   ],
   "source": [
    "import numpy as np\n",
    "import matplotlib.pyplot as plt\n",
    "\n",
    "\n",
    "def g(x):\n",
    "    return np.log(1+x)/x\n",
    "\n",
    "\n",
    "def f_new(x):\n",
    "    return np.exp(-x/3) / (3*(1-np.exp(-1/3)))\n",
    "\n",
    "\n",
    "x = np.linspace(0.,1.,100)[1:]\n",
    "plt.plot(x, g(x), label=\"g\", alpha=0.1)\n",
    "plt.plot(x, f_new(x), label=\"f_new\", alpha=0.1)\n",
    "plt.plot(x, g(x)/f_new(x), label=\"g/f_new\")\n",
    "plt.legend()\n",
    "plt.show()"
   ]
  },
  {
   "cell_type": "code",
   "execution_count": null,
   "metadata": {},
   "outputs": [],
   "source": []
  }
 ],
 "metadata": {
  "kernelspec": {
   "display_name": "Python [default]",
   "language": "python",
   "name": "python3"
  },
  "language_info": {
   "codemirror_mode": {
    "name": "ipython",
    "version": 3
   },
   "file_extension": ".py",
   "mimetype": "text/x-python",
   "name": "python",
   "nbconvert_exporter": "python",
   "pygments_lexer": "ipython3",
   "version": "3.5.5"
  }
 },
 "nbformat": 4,
 "nbformat_minor": 2
}
