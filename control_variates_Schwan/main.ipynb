{
 "cells": [
  {
   "cell_type": "markdown",
   "metadata": {},
   "source": [
    "[Brittany_Schwan](https://www.youtube.com/watch?v=Q9dAaw_bJ-o)\n",
    "[Statistical_Computing_with_R](https://books.google.co.kr/books/about/Statistical_Computing_with_R.html?id=BaHhdqOugjsC&printsec=frontcover&source=kp_read_button&redir_esc=y#v=onepage&q&f=false)"
   ]
  },
  {
   "cell_type": "code",
   "execution_count": 5,
   "metadata": {},
   "outputs": [],
   "source": [
    "%matplotlib inline"
   ]
  },
  {
   "cell_type": "markdown",
   "metadata": {},
   "source": [
    "### Computation of $\\int_0^1\\frac{\\log(x^2+1)}{x+2}dx$ using Monte Carlo\n",
    "$$\\begin{array}{lll}\n",
    "\\mathbb{E}_{X\\sim p}g(X)\n",
    "&=&\\int_{-\\infty}^\\infty g(x)p(x)dx\\\\\n",
    "&\\approx&\\frac{1}{n}\\sum_{i=1}^n g(x_i)\\quad\\mbox{for $x_i\\sim p$}\n",
    "\\end{array}$$\n",
    "where\n",
    "$$\n",
    "p(x)=1(0<x<1)\n",
    "$$"
   ]
  },
  {
   "cell_type": "code",
   "execution_count": 2,
   "metadata": {},
   "outputs": [
    {
     "data": {
      "image/png": "[encoded data removed]",
      "text/plain": [
       "<Figure size 432x288 with 1 Axes>"
      ]
     },
     "metadata": {
      "needs_background": "light"
     },
     "output_type": "display_data"
    },
    {
     "name": "stdout",
     "output_type": "stream",
     "text": [
      "mean of mc: 0.0971806017906307\n",
      "std of mc: 0.0010408750092465145\n"
     ]
    }
   ],
   "source": [
    "import numpy as np\n",
    "import matplotlib.pyplot as plt\n",
    "\n",
    "\n",
    "def g(x):\n",
    "    return np.log(x**2+1) / (x+2)\n",
    "\n",
    "\n",
    "n = 5000 # number of samples to estimate integral\n",
    "n_MC = 10000 # number of MC estimate integral \n",
    "\n",
    "x = np.random.uniform(0., 1., (n_MC, n))\n",
    "MC = np.mean(g(x), axis=1) \n",
    "\n",
    "bins = np.linspace(0.093,0.101,100)\n",
    "plt.hist(MC, bins=bins)\n",
    "plt.show()\n",
    "\n",
    "print('mean of mc: {}'.format(np.mean(MC)))\n",
    "print('std of mc: {}'.format(np.std(MC)))"
   ]
  },
  {
   "cell_type": "markdown",
   "metadata": {},
   "source": [
    "### Computation of $\\int_0^1\\frac{\\log(x^2+1)}{x+2}dx$ using control variate\n",
    "$$\\begin{array}{lll}\n",
    "\\mathbb{E}_{X\\sim p}g(X)\n",
    "&=&\\mathbb{E}_{X\\sim p}\\left(g(X)+c(f(X)-\\mu)\\right)\\\\\n",
    "&\\approx&\\frac{1}{n}\\sum_{i=1}^n g(x_i)+c(f(x_i)-\\mu)\\quad\\mbox{for $x_i\\sim p$}\n",
    "\\end{array}$$\n",
    "where $c$ is a fixed constant and\n",
    "$$\n",
    "\\mu=\\mathbb{E}_{X\\sim p}f(X)\n",
    "$$\n",
    "The optimal $c$ is denoted by $c^*$ where\n",
    "$$c^*=-\\frac{Cov(g(X),f(X))}{Var(f(X))}$$\n",
    "With this $c^*$,\n",
    "$$\n",
    "\\mbox{Var}_{X\\sim p}\\left(g(X)+c^*(f(X)-\\mu)\\right)\n",
    "=\n",
    "\\mbox{Var}_{X\\sim p}\\left(g(X)\\right)\n",
    "-\\frac{Cov(g(X),f(X))^2}{Var(f(X))}\n",
    "$$"
   ]
  },
  {
   "cell_type": "code",
   "execution_count": 6,
   "metadata": {},
   "outputs": [
    {
     "data": {
      "image/png": "[encoded data removed]",
      "text/plain": [
       "<Figure size 432x288 with 1 Axes>"
      ]
     },
     "metadata": {
      "needs_background": "light"
     },
     "output_type": "display_data"
    },
    {
     "name": "stdout",
     "output_type": "stream",
     "text": [
      "mean of mc: 0.09717487443952101\n",
      "std of mc: 0.00012269121130309185\n"
     ]
    }
   ],
   "source": [
    "import numpy as np\n",
    "import matplotlib.pyplot as plt\n",
    "\n",
    "\n",
    "def g(x):\n",
    "    return np.log(x**2+1) / (x+2)\n",
    "\n",
    "\n",
    "def f(x):\n",
    "    return x\n",
    "\n",
    "mu = 0.5\n",
    "\n",
    "\" choice of c \"\n",
    "n = 5000 # number of samples to estimate integral\n",
    "x = np.random.uniform(0., 1., (n,))\n",
    "gx = g(x)\n",
    "fx = f(x)\n",
    "c = - np.cov(gx,fx)[0,1] / np.cov(gx,fx)[1,1]\n",
    "    \n",
    "\" control variates \"\n",
    "n = 5000 # number of samples to estimate integral\n",
    "n_MC = 10000 # number of MC estimate integral \n",
    "\n",
    "x = np.random.uniform(0., 1., (n_MC, n))\n",
    "theta = g(x) + c*(f(x)-mu)\n",
    "MC = np.mean(theta, axis=1) \n",
    "\n",
    "bins = np.linspace(0.093,0.101,100)\n",
    "plt.hist(MC, bins=bins)\n",
    "plt.show()\n",
    "\n",
    "print('mean of mc: {}'.format(np.mean(MC)))\n",
    "print('std of mc: {}'.format(np.std(MC)))"
   ]
  },
  {
   "cell_type": "markdown",
   "metadata": {},
   "source": [
    "### How to choose $f(X)$\n",
    "\n",
    "- High correlation $Corr(f(X),g(X))$ is good\n",
    "\n",
    "- Simple and Easy to compute $\\mu=\\mathbb{E}f(X)$"
   ]
  },
  {
   "cell_type": "code",
   "execution_count": 7,
   "metadata": {},
   "outputs": [
    {
     "name": "stdout",
     "output_type": "stream",
     "text": [
      "0.9928848454851185\n"
     ]
    }
   ],
   "source": [
    "import numpy as np\n",
    "import matplotlib.pyplot as plt\n",
    "\n",
    "\n",
    "def g(x):\n",
    "    return np.log(x**2+1) / (x+2)\n",
    "\n",
    "\n",
    "def f(x):\n",
    "    return x\n",
    "\n",
    "mu = 0.5\n",
    "\n",
    "\" choice of c \"\n",
    "n = 5000 # number of samples to estimate integral\n",
    "x = np.random.uniform(0., 1., (n,))\n",
    "gx = g(x)\n",
    "fx = f(x)\n",
    "rho = np.corrcoef(gx,fx)\n",
    "print(rho[0,1]) # 0.90627887: high correlation is good"
   ]
  },
  {
   "cell_type": "markdown",
   "metadata": {},
   "source": [
    "<div align=\"center\"><img src=\"img/Screen Shot 2019-08-30 at 8.01.15 AM.png\" width=\"100%\" height=\"30%\"></div>\n",
    "\n",
    "[Statistical_Computing_with_R](https://books.google.co.kr/books/about/Statistical_Computing_with_R.html?id=BaHhdqOugjsC&printsec=frontcover&source=kp_read_button&redir_esc=y#v=onepage&q&f=false)"
   ]
  },
  {
   "cell_type": "code",
   "execution_count": null,
   "metadata": {},
   "outputs": [],
   "source": []
  }
 ],
 "metadata": {
  "kernelspec": {
   "display_name": "Python 3",
   "language": "python",
   "name": "python3"
  },
  "language_info": {
   "codemirror_mode": {
    "name": "ipython",
    "version": 3
   },
   "file_extension": ".py",
   "mimetype": "text/x-python",
   "name": "python",
   "nbconvert_exporter": "python",
   "pygments_lexer": "ipython3",
   "version": "3.7.3"
  }
 },
 "nbformat": 4,
 "nbformat_minor": 2
}
