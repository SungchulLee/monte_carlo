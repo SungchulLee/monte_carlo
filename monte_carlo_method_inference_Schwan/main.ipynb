{
 "cells": [
  {
   "cell_type": "markdown",
   "metadata": {},
   "source": [
    "[Brittany_Schwan](https://www.youtube.com/watch?v=5L-pLoX8iaw)"
   ]
  },
  {
   "cell_type": "code",
   "execution_count": 1,
   "metadata": {},
   "outputs": [],
   "source": [
    "%matplotlib inline"
   ]
  },
  {
   "cell_type": "markdown",
   "metadata": {},
   "source": [
    "In statistics, the mean squared error (MSE) or mean squared deviation (MSD) of an estimator (of a procedure for estimating an unobserved quantity) measures the average of the squares of the errors—that is, the average squared difference between the estimated values and the actual value.\n",
    "\n",
    "https://en.wikipedia.org/wiki/Mean_squared_error\n",
    "\n",
    "$$\n",
    "\\hat\\sigma=\\sqrt{\\frac{1}{n-1}\\sum_{i=1}^n\\left(x_i-\\bar{x}\\right)^2}\n",
    "$$\n",
    "$$$$\n",
    "\n",
    "$$\n",
    "MSE\\left(\\hat\\sigma\\right)=\\mathbb{E}\\left(\\hat\\sigma-\\sigma\\right)^2\n",
    "$$\n",
    "$$$$\n",
    "\n",
    "$$\n",
    "\\hat{MSE}\\left(\\hat\\sigma\\right)=\\frac{1}{n_{MC}}\\sum_{j=1}^{n_{MC}}\\left(\\hat\\sigma_j-\\sigma\\right)^2\n",
    "$$"
   ]
  },
  {
   "cell_type": "code",
   "execution_count": 2,
   "metadata": {},
   "outputs": [
    {
     "name": "stdout",
     "output_type": "stream",
     "text": [
      "9.511820293359525\n"
     ]
    },
    {
     "data": {
      "image/png": "[encoded data removed]",
      "text/plain": [
       "<Figure size 432x288 with 1 Axes>"
      ]
     },
     "metadata": {},
     "output_type": "display_data"
    }
   ],
   "source": [
    "import numpy as np\n",
    "import matplotlib.pyplot as plt\n",
    "\n",
    "mu = 100 # true value of mu\n",
    "sigma = 13 # true value of sigma\n",
    "\n",
    "\n",
    "def MSE_hat(n_MC, n):\n",
    "    x = np.random.normal(loc=mu, scale=sigma, size=(n_MC, n))\n",
    "    sigma_hat = np.std(x, ddof=1, axis=1)\n",
    "    return np.mean((sigma_hat-sigma)**2)\n",
    "\n",
    "\n",
    "\" Compute $\\hat{MSE}$ \"\n",
    "n_MC = 1000 # number of MC estimate integral \n",
    "n = 10 # number of samples to estimate integral\n",
    "print(MSE_hat(n_MC, n))\n",
    "\n",
    "\" Compute Distribution of $\\hat{MSE}$ \"\n",
    "MSE_hat_samples = []\n",
    "for _ in range(1000):\n",
    "    MSE_hat_samples.append(MSE_hat(n_MC, n))\n",
    "    \n",
    "plt.hist(MSE_hat_samples, bins=50)\n",
    "plt.title('Distribution of $\\hat{MSE}$')\n",
    "plt.show()"
   ]
  }
 ],
 "metadata": {
  "kernelspec": {
   "display_name": "Python [default]",
   "language": "python",
   "name": "python3"
  },
  "language_info": {
   "codemirror_mode": {
    "name": "ipython",
    "version": 3
   },
   "file_extension": ".py",
   "mimetype": "text/x-python",
   "name": "python",
   "nbconvert_exporter": "python",
   "pygments_lexer": "ipython3",
   "version": "3.5.5"
  }
 },
 "nbformat": 4,
 "nbformat_minor": 2
}
