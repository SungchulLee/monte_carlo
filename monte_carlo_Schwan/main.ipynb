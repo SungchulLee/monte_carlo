{
 "cells": [
  {
   "cell_type": "markdown",
   "metadata": {},
   "source": [
    "[Brittany_Schwan](https://www.youtube.com/watch?v=CgRWGn9MDdY)"
   ]
  },
  {
   "cell_type": "markdown",
   "metadata": {},
   "source": [
    "$$\\begin{array}{lll}\n",
    "\\mathbb{E}_{X\\sim f}g(X)\n",
    "&=&\\int_{-\\infty}^\\infty g(x)f(x)dx\\\\\n",
    "&\\approx&\\frac{1}{n}\\sum_{i=1}^n g(x_i)\\quad\\mbox{for $x_i\\sim f$}\n",
    "\\end{array}$$"
   ]
  },
  {
   "cell_type": "code",
   "execution_count": 6,
   "metadata": {},
   "outputs": [],
   "source": [
    "%matplotlib inline"
   ]
  },
  {
   "cell_type": "markdown",
   "metadata": {},
   "source": [
    "### Computation of $\\int_0^1 g(x)dx$ using Monte Carlo\n",
    "$$\n",
    "\\int_0^1 g(x)dx\n",
    "=\\mathbb{E}_{X\\sim U(0,1)} g(X)\n",
    "\\approx\\frac{1}{n}\\sum_{i=1}^n g(x_i)\\quad\\mbox{for $x_i\\sim U(0,1)$}\n",
    "$$"
   ]
  },
  {
   "cell_type": "code",
   "execution_count": 1,
   "metadata": {},
   "outputs": [
    {
     "name": "stdout",
     "output_type": "stream",
     "text": [
      "0.628801326976447\n"
     ]
    }
   ],
   "source": [
    "import numpy as np\n",
    "import matplotlib.pyplot as plt\n",
    "\n",
    "\n",
    "def g(x):\n",
    "    return np.exp(-x)\n",
    "\n",
    "\n",
    "n = 5000 # number of samples to estimate integral\n",
    "x = np.random.uniform(0., 1., (n,))\n",
    "MC = np.mean(g(x)) \n",
    "print(MC)"
   ]
  },
  {
   "cell_type": "code",
   "execution_count": 7,
   "metadata": {},
   "outputs": [
    {
     "data": {
      "image/png": "[encoded data removed]",
      "text/plain": [
       "<Figure size 432x288 with 1 Axes>"
      ]
     },
     "metadata": {
      "needs_background": "light"
     },
     "output_type": "display_data"
    }
   ],
   "source": [
    "import numpy as np\n",
    "import matplotlib.pyplot as plt\n",
    "\n",
    "\n",
    "def g(x):\n",
    "    return np.exp(-x)\n",
    "\n",
    "\n",
    "n = 5000 # number of samples to estimate integral\n",
    "n_MC = 10000 # number of MC\n",
    "x = np.random.uniform(0., 1., (n_MC,n))\n",
    "MC = np.mean(g(x), axis=1) \n",
    "plt.hist(MC, bins=100)\n",
    "plt.show()"
   ]
  },
  {
   "cell_type": "markdown",
   "metadata": {},
   "source": [
    "### Computation of $\\int_a^b g(x)dx$ using Monte Carlo\n",
    "$$\\begin{array}{lll}\n",
    "\\int_a^b g(x)dx\n",
    "&=&(b-a)\\int_a^b g(x)\\frac{1}{b-a}dx\\\\\n",
    "&=&(b-a)\\mathbb{E}_{X\\sim U(a,b)} g(X)\\\\\n",
    "&\\approx&(b-a)\\left(\\frac{1}{n}\\sum_{i=1}^n g(x_i)\\right)\\quad\\mbox{for $x_i\\sim U(a,b)$}\n",
    "\\end{array}$$"
   ]
  },
  {
   "cell_type": "code",
   "execution_count": 5,
   "metadata": {},
   "outputs": [
    {
     "name": "stdout",
     "output_type": "stream",
     "text": [
      "0.11714279211032029\n"
     ]
    }
   ],
   "source": [
    "import numpy as np\n",
    "import matplotlib.pyplot as plt\n",
    "\n",
    "a = 2.\n",
    "b = 4.\n",
    "\n",
    "\n",
    "def g(x):\n",
    "    return np.exp(-x)\n",
    "\n",
    "\n",
    "n = 5000 # number of samples to estimate integral\n",
    "x = np.random.uniform(a, b, (n,))\n",
    "MC = (b-a) * np.mean(g(x)) \n",
    "print(MC)"
   ]
  },
  {
   "cell_type": "code",
   "execution_count": null,
   "metadata": {},
   "outputs": [],
   "source": []
  }
 ],
 "metadata": {
  "kernelspec": {
   "display_name": "Python 3",
   "language": "python",
   "name": "python3"
  },
  "language_info": {
   "codemirror_mode": {
    "name": "ipython",
    "version": 3
   },
   "file_extension": ".py",
   "mimetype": "text/x-python",
   "name": "python",
   "nbconvert_exporter": "python",
   "pygments_lexer": "ipython3",
   "version": "3.7.3"
  }
 },
 "nbformat": 4,
 "nbformat_minor": 2
}
