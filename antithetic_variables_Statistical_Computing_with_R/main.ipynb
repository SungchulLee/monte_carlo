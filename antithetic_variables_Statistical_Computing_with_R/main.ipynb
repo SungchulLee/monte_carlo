{
 "cells": [
  {
   "cell_type": "markdown",
   "metadata": {},
   "source": [
    "[Statistical_Computing_with_R](https://books.google.co.kr/books/about/Statistical_Computing_with_R.html?id=BaHhdqOugjsC&printsec=frontcover&source=kp_read_button&redir_esc=y#v=onepage&q&f=false)\n",
    "[wiki](https://en.wikipedia.org/wiki/Antithetic_variates)"
   ]
  },
  {
   "cell_type": "markdown",
   "metadata": {},
   "source": [
    "<div align=\"center\"><img src=\"img/Screen Shot 2019-08-30 at 7.04.14 AM.png\" width=\"100%\" height=\"30%\"></div>\n",
    "\n",
    "[Statistical_Computing_with_R](https://books.google.co.kr/books/about/Statistical_Computing_with_R.html?id=BaHhdqOugjsC&printsec=frontcover&source=kp_read_button&redir_esc=y#v=onepage&q&f=false)\n",
    "\n",
    "<div align=\"center\"><img src=\"img/Screen Shot 2019-08-30 at 7.05.50 AM.png\" width=\"100%\" height=\"30%\"></div>\n",
    "\n",
    "[Statistical_Computing_with_R](https://books.google.co.kr/books/about/Statistical_Computing_with_R.html?id=BaHhdqOugjsC&printsec=frontcover&source=kp_read_button&redir_esc=y#v=onepage&q&f=false)"
   ]
  },
  {
   "cell_type": "code",
   "execution_count": 1,
   "metadata": {},
   "outputs": [],
   "source": [
    "%matplotlib inline"
   ]
  },
  {
   "cell_type": "markdown",
   "metadata": {},
   "source": [
    "### Computation of $\\int_0^1\\frac{1}{x+1}dx$ using Monte Carlo"
   ]
  },
  {
   "cell_type": "code",
   "execution_count": 2,
   "metadata": {},
   "outputs": [
    {
     "data": {
      "image/png": "[encoded data removed]",
      "text/plain": [
       "<Figure size 432x288 with 1 Axes>"
      ]
     },
     "metadata": {
      "needs_background": "light"
     },
     "output_type": "display_data"
    },
    {
     "name": "stdout",
     "output_type": "stream",
     "text": [
      "mean of mc: 0.6931598304318449\n",
      "std of mc: 0.0019796360667635863\n"
     ]
    }
   ],
   "source": [
    "import numpy as np\n",
    "import matplotlib.pyplot as plt\n",
    "\n",
    "\n",
    "def g(x):\n",
    "    return 1 / (x+1)\n",
    "\n",
    "\n",
    "n = 5000 # number of samples to estimate integral\n",
    "n_MC = 10000 # number of MC estimate integral \n",
    "\n",
    "x = np.random.uniform(0., 1., (n_MC, n))\n",
    "MC = np.mean(g(x), axis=1) \n",
    "\n",
    "bins = np.linspace(0.6850,0.7025,100)\n",
    "plt.hist(MC, bins=bins)\n",
    "plt.show()\n",
    "\n",
    "print('mean of mc: {}'.format(np.mean(MC)))\n",
    "print('std of mc: {}'.format(np.std(MC)))"
   ]
  },
  {
   "cell_type": "markdown",
   "metadata": {},
   "source": [
    "### Computation of $\\int_0^1\\frac{1}{x+1}dx$ using antithetic variables"
   ]
  },
  {
   "cell_type": "code",
   "execution_count": 3,
   "metadata": {},
   "outputs": [
    {
     "data": {
      "image/png": "[encoded data removed]",
      "text/plain": [
       "<Figure size 432x288 with 1 Axes>"
      ]
     },
     "metadata": {
      "needs_background": "light"
     },
     "output_type": "display_data"
    },
    {
     "name": "stdout",
     "output_type": "stream",
     "text": [
      "mean of mc: 0.6931520908124503\n",
      "std of mc: 0.00048693891071976134\n"
     ]
    }
   ],
   "source": [
    "import numpy as np\n",
    "import matplotlib.pyplot as plt\n",
    "\n",
    "\n",
    "def g(x):\n",
    "    return 1 / (x+1)\n",
    "\n",
    "\n",
    "n = 2500 # number of samples to estimate integral\n",
    "n_MC = 10000 # number of MC estimate integral \n",
    "\n",
    "x = np.random.uniform(0., 1., (n_MC, n))\n",
    "x_ = 1 - x\n",
    "x = np.concatenate((x, x_), axis=1)\n",
    "MC = np.mean(g(x), axis=1) \n",
    "\n",
    "bins = np.linspace(0.6850,0.7025,100)\n",
    "plt.hist(MC, bins=bins)\n",
    "plt.show()\n",
    "\n",
    "print('mean of mc: {}'.format(np.mean(MC)))\n",
    "print('std of mc: {}'.format(np.std(MC)))"
   ]
  },
  {
   "cell_type": "code",
   "execution_count": null,
   "metadata": {},
   "outputs": [],
   "source": []
  }
 ],
 "metadata": {
  "kernelspec": {
   "display_name": "Python 3",
   "language": "python",
   "name": "python3"
  },
  "language_info": {
   "codemirror_mode": {
    "name": "ipython",
    "version": 3
   },
   "file_extension": ".py",
   "mimetype": "text/x-python",
   "name": "python",
   "nbconvert_exporter": "python",
   "pygments_lexer": "ipython3",
   "version": "3.7.3"
  }
 },
 "nbformat": 4,
 "nbformat_minor": 2
}
